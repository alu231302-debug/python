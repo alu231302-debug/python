{
  "nbformat": 4,
  "nbformat_minor": 0,
  "metadata": {
    "colab": {
      "provenance": [],
      "authorship_tag": "ABX9TyPBXqoje4kbuW7Ljqg9Z29k",
      "include_colab_link": true
    },
    "kernelspec": {
      "name": "python3",
      "display_name": "Python 3"
    },
    "language_info": {
      "name": "python"
    }
  },
  "cells": [
    {
      "cell_type": "markdown",
      "metadata": {
        "id": "view-in-github",
        "colab_type": "text"
      },
      "source": [
        "<a href=\"https://colab.research.google.com/github/alu231302-debug/python/blob/main/Untitled0.ipynb\" target=\"_parent\"><img src=\"https://colab.research.google.com/assets/colab-badge.svg\" alt=\"Open In Colab\"/></a>"
      ]
    },
    {
      "cell_type": "code",
      "execution_count": null,
      "metadata": {
        "id": "1Grwvw0I_2w2"
      },
      "outputs": [],
      "source": []
    },
    {
      "cell_type": "markdown",
      "source": [
        "Realizar un programa en python que te permita capturar 3 números enteros e imprima cual de los 3 es el mayor\n"
      ],
      "metadata": {
        "id": "RiQVvJUG_5Cp"
      }
    },
    {
      "cell_type": "code",
      "source": [
        "def encontar_mayor():\n",
        "\n",
        "  num1 = int(input(\"ingresa el primer numero: \"))\n",
        "  num2 = int(input(\"ingresa el segundo numero: \"))\n",
        "  num3 = int(input(\"ingresa el tercer numero: \"))\n",
        "\n",
        "  mayor = max(num1,num2,num3)\n",
        "  print(f\"el numero mayor es:{mayor}\")\n",
        "\n",
        "encontar_mayor()\n"
      ],
      "metadata": {
        "colab": {
          "base_uri": "https://localhost:8080/"
        },
        "id": "uDPu8kv8AMjY",
        "outputId": "41df7599-86e5-4436-8711-65619629d388"
      },
      "execution_count": 3,
      "outputs": [
        {
          "output_type": "stream",
          "name": "stdout",
          "text": [
            "ingresa el primer numero: 10\n",
            "ingresa el segundo numero: 5\n",
            "ingresa el tercer numero: 6\n",
            "el numero mayor es:10\n"
          ]
        }
      ]
    },
    {
      "cell_type": "markdown",
      "source": [
        "Realizar un programa en python mediante el cual calcules el total de caracteres que tiene un nombre capturado desde el teclado."
      ],
      "metadata": {
        "id": "OqepT9-MEQyl"
      }
    },
    {
      "cell_type": "code",
      "source": [
        "palabra = input(\"ingresa una palabra: \")\n",
        "caracteres = len(palabra)\n",
        "print(\"la palabra tiene\", caracteres ,\"caracteres.\")"
      ],
      "metadata": {
        "colab": {
          "base_uri": "https://localhost:8080/"
        },
        "id": "f82ELXVpEWcD",
        "outputId": "a5d90ba0-67b5-4a77-9fc6-2638619440ff"
      },
      "execution_count": 4,
      "outputs": [
        {
          "output_type": "stream",
          "name": "stdout",
          "text": [
            "ingresa una palabra: nahomi\n",
            "la palabra tiene 6 caracteres.\n"
          ]
        }
      ]
    },
    {
      "cell_type": "markdown",
      "source": [
        "Realizar un programa en python que permita imprimir los 7 días de la semana."
      ],
      "metadata": {
        "id": "byB8VZg7GBXm"
      }
    },
    {
      "cell_type": "code",
      "source": [
        "respuesta = input(\"presiona 0 para que el programa te imprima los dias de la semana\")\n",
        "if respuesta == \"0\":\n",
        "  print(\"lunes\")\n",
        "  print(\"martes\")\n",
        "  print(\"miercoles\")\n",
        "  print(\"jueves\")\n",
        "  print(\"viernes\")\n",
        "  print(\"sabado\")\n",
        "  print(\"domingo\")\n",
        "\n",
        "else:\n",
        "  print(\"adios\")"
      ],
      "metadata": {
        "colab": {
          "base_uri": "https://localhost:8080/"
        },
        "id": "FrTyxTq9GGtu",
        "outputId": "15e91bff-f19b-4c6c-b247-c0e1f2f2f039"
      },
      "execution_count": 5,
      "outputs": [
        {
          "output_type": "stream",
          "name": "stdout",
          "text": [
            "presiona 0 para que el programa te imprima los dias de la semana0\n",
            "lunes\n",
            "martes\n",
            "miercoles\n",
            "jueves\n",
            "viernes\n",
            "sabado\n",
            "domingo\n"
          ]
        }
      ]
    }
  ]
}
{
  "nbformat": 4,
  "nbformat_minor": 0,
  "metadata": {
    "colab": {
      "provenance": [],
      "authorship_tag": "ABX9TyMImoUCL/7zFxdFMB1qYKMx",
      "include_colab_link": true
    },
    "kernelspec": {
      "name": "python3",
      "display_name": "Python 3"
    },
    "language_info": {
      "name": "python"
    }
  },
  "cells": [
    {
      "cell_type": "markdown",
      "metadata": {
        "id": "view-in-github",
        "colab_type": "text"
      },
      "source": [
        "<a href=\"https://colab.research.google.com/github/alu231302-debug/python/blob/main/Untitled1.ipynb\" target=\"_parent\"><img src=\"https://colab.research.google.com/assets/colab-badge.svg\" alt=\"Open In Colab\"/></a>"
      ]
    },
    {
      "cell_type": "code",
      "execution_count": null,
      "metadata": {
        "id": "PcBKQMbbtmtW"
      },
      "outputs": [],
      "source": []
    },
    {
      "cell_type": "markdown",
      "source": [
        "realizar un programa que permita capturar tu nombre y donde imprima seguida de una bienvenida"
      ],
      "metadata": {
        "id": "EQubLQhit5bx"
      }
    },
    {
      "cell_type": "code",
      "source": [
        "print(\"hola mundo\")\n",
        "\n",
        "\n",
        "\n",
        "capturarNombre = input(\"escribe tu nombre:\")\n",
        "print(\"tu nombre es...\", capturarNombre)\n",
        "print(\"bienvenida!!\")\n",
        "\n",
        "\n"
      ],
      "metadata": {
        "colab": {
          "base_uri": "https://localhost:8080/"
        },
        "id": "kjUgZL3jt_om",
        "outputId": "8f3e12a3-ea4a-4574-8a7e-635b715d1954"
      },
      "execution_count": 4,
      "outputs": [
        {
          "output_type": "stream",
          "name": "stdout",
          "text": [
            "hola mundo\n",
            "escribe tu nombre:nahomi\n",
            "tu nombre es... nahomi\n",
            "bienvenida!!\n"
          ]
        }
      ]
    },
    {
      "cell_type": "markdown",
      "source": [
        "realizar un programa que permita capturar 2 numeros enteros e imprimir la suma, la resta, la multilicacion y la division entre ellos"
      ],
      "metadata": {
        "id": "iAdUcT0NuQdf"
      }
    },
    {
      "cell_type": "code",
      "source": [
        "num1 = int(input(\"captura un numero \"))\n",
        "num2 = int(input(\"captura un numero\"))\n",
        "s=num1+num2\n",
        "r=num1-num2\n",
        "m=num1*num2\n",
        "d=num1/num2\n",
        "print(\"la suma es \", s)\n",
        "print(\"la resta es \", r)\n",
        "r=num1-num2\n",
        "print(\"la multiplicacion es \", m)\n",
        "m=num1*num2\n",
        "print(\"la division es \", d)\n",
        "d=num1/num2"
      ],
      "metadata": {
        "colab": {
          "base_uri": "https://localhost:8080/"
        },
        "id": "ZbpYzD3kuZ9t",
        "outputId": "d49db75e-04ef-434d-e751-17e4af1e91e9"
      },
      "execution_count": 5,
      "outputs": [
        {
          "output_type": "stream",
          "name": "stdout",
          "text": [
            "captura un numero 51\n",
            "captura un numero20\n",
            "la suma es  71\n",
            "la resta es  31\n",
            "la multiplicacion es  1020\n",
            "la division es  2.55\n"
          ]
        }
      ]
    },
    {
      "cell_type": "markdown",
      "source": [],
      "metadata": {
        "id": "5bJTeuJCusRF"
      }
    }
  ]
}